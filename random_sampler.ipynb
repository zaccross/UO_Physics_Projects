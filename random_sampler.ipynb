{
 "cells": [
  {
   "cell_type": "markdown",
   "metadata": {},
   "source": [
    "#### Program to make a random sample from a numpy random distribution with or without noise.\n",
    "\n",
    "Users have the option to specify which of 4 numpy.random distribution to pull from and what arguments they want to put into them, as well as a choice of a noise distribution to be added in. \n",
    "\n",
    "The noise is specificed by a tuple or list of arguments following noise=('distr. name', 1st arg, 2nd arg, proportion of total sample). Example: noise = ('normal', 0, 1, .3) for 30% of my sample to be pulled from a normal distribution centered on 0, with standard deviation 1."
   ]
  },
  {
   "cell_type": "code",
   "execution_count": 47,
   "metadata": {},
   "outputs": [],
   "source": [
    "import numpy as np\n",
    "\n",
    "def sampler(bounds = (-1,1), args=(0,1), distr = 'normal', noise = False, population_size = 100):  \n",
    "    \n",
    "    mini = bounds[0]\n",
    "    maxi = bounds[1]\n",
    "    \n",
    "    noise_size = 0\n",
    "    N = population_size\n",
    "    distris = {'normal': 0, 'uniform': 1, 'poisson':2, 'binomial':3}\n",
    "    noise_sample = []\n",
    "    sample = []\n",
    "    \n",
    "    \n",
    "    if noise:\n",
    "        noise_size = int(noise[3]*N)\n",
    "        N = int(N - noise_size)\n",
    "        \n",
    "    picker = distris[distr]\n",
    "   \n",
    "    \n",
    "    if picker == 0:\n",
    "        sample = np.random.normal(args[0], args[1], N)\n",
    "    elif picker == 1:\n",
    "        sample = np.random.uniform(mini, maxi, N)\n",
    "    elif picker == 2:\n",
    "        sample = np.random.poisson(args[0], N)\n",
    "    elif picker == 3:\n",
    "        sample = np.random.binomial(args[0], args[1], N)\n",
    "       \n",
    "    if noise:\n",
    "        print('noise added')\n",
    "        picket = noise[0]\n",
    "        pick = distris[picket]\n",
    "        if pick == 0:\n",
    "            noise_sample = np.random.normal(noise[1], noise[2], noise_size)\n",
    "        elif pick == 1:\n",
    "            noise_sample = np.random.uniform(noise[1], noise[2], noise_size)\n",
    "        elif pick == 2:\n",
    "            noise_sample = np.random.poisson(noise[1], noise_size)\n",
    "        elif pick == 3:\n",
    "            noise_sample = np.random.binomial(noise[1], noise[2], noise_size)\n",
    "\n",
    "    \n",
    "    \n",
    "    return np.concatenate((sample, noise_sample))\n",
    "    "
   ]
  },
  {
   "cell_type": "code",
   "execution_count": null,
   "metadata": {},
   "outputs": [],
   "source": []
  },
  {
   "cell_type": "code",
   "execution_count": null,
   "metadata": {},
   "outputs": [],
   "source": []
  },
  {
   "cell_type": "code",
   "execution_count": null,
   "metadata": {},
   "outputs": [],
   "source": []
  },
  {
   "cell_type": "code",
   "execution_count": null,
   "metadata": {},
   "outputs": [],
   "source": []
  }
 ],
 "metadata": {
  "kernelspec": {
   "display_name": "Python 3",
   "language": "python",
   "name": "python3"
  },
  "language_info": {
   "codemirror_mode": {
    "name": "ipython",
    "version": 3
   },
   "file_extension": ".py",
   "mimetype": "text/x-python",
   "name": "python",
   "nbconvert_exporter": "python",
   "pygments_lexer": "ipython3",
   "version": "3.7.6"
  }
 },
 "nbformat": 4,
 "nbformat_minor": 4
}
